{
 "cells": [
  {
   "cell_type": "markdown",
   "id": "a1000f94-cfef-4562-ab1d-2004deffeb54",
   "metadata": {
    "tags": []
   },
   "source": [
    "#1\n",
    "\n",
    "Estimate in statistics is an observed numerical value used to estimate an unknown population parameter.\n",
    "\n",
    "point estimate: Sigle numerical value used to estimate unknown population parameter.\n",
    "\n",
    "Interval estimate : Range of values used to estimate the unkown population parameter."
   ]
  },
  {
   "cell_type": "markdown",
   "id": "092214fb-8bd2-436f-acc0-a6fc1d006534",
   "metadata": {},
   "source": [
    "#3\n",
    "\n",
    "Hypothesis testing is a statistical method used to make inferences or decisions about a population based on a sample of data. It involves formulating a hypothesis about a population parameter and then using sample data to determine whether there is enough evidence to support or reject that hypothesis.\n",
    "\n",
    "Hypothesis testing provides a systematic framework for making decisions and drawing conclusions based on empirical evidence. It helps to minimize subjectivity and bias in decision-making processes and encourages reliance on objective data analysis"
   ]
  },
  {
   "cell_type": "markdown",
   "id": "b2090a9e-da83-470a-b4be-73fecb09dad7",
   "metadata": {},
   "source": [
    "#4\n",
    "\n",
    "Null hypothesis: Average weight of male student > Average weight of female student\n",
    "\n",
    "Alternate hypothesis : Average weight of female student > Average weight of male student"
   ]
  },
  {
   "cell_type": "markdown",
   "id": "c338829d-7aa5-42af-8235-0c3e5f6ad30f",
   "metadata": {},
   "source": [
    "#6\n",
    "\n",
    "Null hypothesis: The assumption you are begining with\n",
    "\n",
    "Alternate hypothesis: Opposite of null hypothsis\n",
    "\n",
    "Example:\n",
    "If a person committed a crime then:\n",
    "\n",
    "Null hypothesis: The person is not guilty\n",
    "\n",
    "Alternate hypothesis: The person is guilty"
   ]
  },
  {
   "cell_type": "markdown",
   "id": "7a113428-8b78-4939-bc30-d6b2acaded74",
   "metadata": {},
   "source": [
    "#7\n",
    "\n",
    "steps involved in hypothesis testing:\n",
    "\n",
    "1. Creat hypothesis about the condition (Null hypothesis,Alternate hypothesis)\n",
    "2. Experiment (Z-test,T-test....)\n",
    "3. Accept the null hypothesis or reject the null hypothesis"
   ]
  },
  {
   "cell_type": "markdown",
   "id": "dc7a8734-cb4e-4fcf-89d2-a4df5d4d730e",
   "metadata": {},
   "source": [
    "#8\n",
    "p value are used in hypothesis testing to help to decide whether to reject the null hypotheis.\n",
    "\n",
    "In hypothesis testing, the p-value is the probability of obtaining results at least as extreme as the observed results of a statistical hypothesis test, assuming that the null hypothesis is correct. The p-value serves as an alternative to rejection points to provide the smallest level of significance at which the null hypothesis would be rejected.\n",
    "\n",
    "A p-value less than or equal to your significance level (typically ≤ 0.05) is statistically significant. For instance, if you set α = 0.05, you would reject the null hypothesis if your p-value ≤ 0.05. It indicates strong evidence against the null hypothesis, as there is less than a 5% probability the null is correct (and the results are random).\n",
    "\n",
    "The smaller the p-value, the stronger the evidence against the null hypothesis and hence, the result should be statistically significant. Hence, the rejection of the null hypothesis is highly possible, as the p-value becomes smaller."
   ]
  },
  {
   "cell_type": "markdown",
   "id": "66a5492e-4c3e-4c01-8343-a6a8d950975c",
   "metadata": {},
   "source": [
    "#11\n",
    "\n",
    "The Student's t-distribution, often referred to simply as the t-distribution, is a probability distribution that is commonly used in statistics to perform hypothesis tests and construct confidence intervals when dealing with small sample sizes or when the population standard deviation is unknown.\n",
    "\n",
    "The t-distribution is used when dealing with small sample sizes, estimating population parameters from limited data, or when the population standard deviation is unknown"
   ]
  },
  {
   "cell_type": "markdown",
   "id": "cc70cf4c-de23-4344-b0b0-d3eb59cf759c",
   "metadata": {},
   "source": [
    "#12\n",
    "\n",
    "The t-statistic, also known as the Student's t-statistic, is a numerical measure that quantifies how far a sample mean deviates from a hypothesized population mean in terms of the standard error of the sample mean.\n",
    "\n",
    "The formula for calculating the t-statistic is:\n",
    "\n",
    "\n",
    "t= sampleMean - populationMean/(sample standard deviation/ √sample size)\n"
   ]
  },
  {
   "cell_type": "code",
   "execution_count": null,
   "id": "ba3d9fbf-8dc2-42db-ac80-2302b0695011",
   "metadata": {},
   "outputs": [],
   "source": []
  }
 ],
 "metadata": {
  "kernelspec": {
   "display_name": "Python 3 (ipykernel)",
   "language": "python",
   "name": "python3"
  },
  "language_info": {
   "codemirror_mode": {
    "name": "ipython",
    "version": 3
   },
   "file_extension": ".py",
   "mimetype": "text/x-python",
   "name": "python",
   "nbconvert_exporter": "python",
   "pygments_lexer": "ipython3",
   "version": "3.10.8"
  }
 },
 "nbformat": 4,
 "nbformat_minor": 5
}
